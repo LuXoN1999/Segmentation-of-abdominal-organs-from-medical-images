{
 "cells": [
  {
   "cell_type": "code",
   "outputs": [],
   "source": [
    "import os\n",
    "import tensorflow as tf\n",
    "from tools.data_loading import load_data, read_image, read_mask\n",
    "from unet import UnetBuilder\n",
    "from metrics import dice_coef, dice_loss, iou\n",
    "from tensorflow.keras.callbacks import ModelCheckpoint, ReduceLROnPlateau, CSVLogger, EarlyStopping"
   ],
   "metadata": {
    "collapsed": false
   },
   "id": "5f061b0eeb9d02b",
   "execution_count": null
  },
  {
   "cell_type": "code",
   "outputs": [],
   "source": [
    "# HYPERPARAMS\n",
    "IMG_HEIGHT, IMG_WIDTH = 256, 256\n",
    "BATCH_SIZE = 32\n",
    "N_CLASSES = 16  # 15 labels of abdominal organs + background label\n",
    "DATASET_PATH = \"./jpg_data\"\n",
    "LEARNING_RATE = 1e-4\n",
    "EPOCHS = 100\n"
   ],
   "metadata": {
    "collapsed": false
   },
   "id": "694f2ed3117cc441",
   "execution_count": null
  },
  {
   "cell_type": "code",
   "outputs": [],
   "source": [
    "def tf_parse(x, y):\n",
    "    def _parse(x, y):\n",
    "        x = read_image(x)\n",
    "        y = read_mask(y)\n",
    "        return x, y\n",
    "\n",
    "    x, y = tf.numpy_function(_parse, [x, y], [tf.float64, tf.float64])\n",
    "    x.set_shape([IMG_HEIGHT, IMG_WIDTH, 3])\n",
    "    y.set_shape([IMG_HEIGHT, IMG_WIDTH, 1])\n",
    "    return x, y\n"
   ],
   "metadata": {
    "collapsed": false
   },
   "id": "c7b308e0506db195",
   "execution_count": null
  },
  {
   "cell_type": "code",
   "outputs": [],
   "source": [
    "def tf_dataset(x, y, batch_size=8):\n",
    "    dataset = tf.data.Dataset.from_tensor_slices((x, y))\n",
    "    dataset = dataset.map(tf_parse, num_parallel_calls=tf.data.AUTOTUNE)\n",
    "    dataset = dataset.batch(batch_size)\n",
    "    dataset = dataset.prefetch(tf.data.AUTOTUNE)\n",
    "    return dataset"
   ],
   "metadata": {
    "collapsed": false
   },
   "id": "e3bf25a8b71750a3",
   "execution_count": null
  },
  {
   "cell_type": "code",
   "outputs": [],
   "source": [
    "(train_x, train_y), (valid_x, valid_y) = load_data(DATASET_PATH)"
   ],
   "metadata": {
    "collapsed": false
   },
   "id": "c0a30acd6da5a6b6",
   "execution_count": null
  },
  {
   "cell_type": "code",
   "outputs": [],
   "source": [
    "train_dataset = tf_dataset(train_x, train_y, batch_size=BATCH_SIZE)\n",
    "valid_dataset = tf_dataset(valid_x, valid_y, batch_size=BATCH_SIZE)"
   ],
   "metadata": {
    "collapsed": false
   },
   "id": "8236425bd12e5eed",
   "execution_count": null
  },
  {
   "cell_type": "code",
   "outputs": [],
   "source": [
    "input_shape = (IMG_HEIGHT, IMG_WIDTH, 3)\n",
    "model = UnetBuilder.build_unet(input_shape=input_shape, n_classes=N_CLASSES)"
   ],
   "metadata": {
    "collapsed": false
   },
   "id": "dd51abc1d95e3fb0",
   "execution_count": null
  },
  {
   "cell_type": "code",
   "outputs": [],
   "source": [
    "import tensorflow\n",
    "\n",
    "metrics = [dice_coef, iou]\n",
    "\n",
    "optimizer = tensorflow.keras.optimizers.Adam(learning_rate=LEARNING_RATE)\n",
    "model.compile(loss=dice_loss, optimizer=optimizer, metrics=metrics)"
   ],
   "metadata": {
    "collapsed": false
   },
   "id": "7dd017c569aa8db2",
   "execution_count": null
  },
  {
   "cell_type": "code",
   "outputs": [],
   "source": [
    "result_folder = \"./files\"\n",
    "csv_path = os.path.join(result_folder, \"csv_log\")\n",
    "model_path = os.path.join(result_folder, \"model.keras\")\n",
    "\n",
    "# create folder to store final model and its results \n",
    "if not os.path.exists(result_folder):\n",
    "    os.mkdir(result_folder)\n",
    "    os.mkdir(csv_path)\n",
    "    csv_path = os.path.join(csv_path, \"csv_log.csv\")\n",
    "\n",
    "callbacks = [\n",
    "    ModelCheckpoint(filepath=model_path, verbose=1, save_best_only=True),\n",
    "    ReduceLROnPlateau(monitor=\"val_loss\", factor=0.1, patience=4),\n",
    "    CSVLogger(filename=csv_path),\n",
    "    EarlyStopping(monitor=\"val_loss\", patience=20, restore_best_weights=False)\n",
    "]"
   ],
   "metadata": {
    "collapsed": false
   },
   "id": "167cd6c7c3e0e1c9",
   "execution_count": null
  },
  {
   "cell_type": "code",
   "outputs": [],
   "source": [
    "model.fit(train_dataset, validation_data=valid_dataset, epochs=EPOCHS, callbacks=callbacks)"
   ],
   "metadata": {
    "collapsed": false
   },
   "id": "aa6aaadce0dbf8ce",
   "execution_count": null
  }
 ],
 "metadata": {
  "kernelspec": {
   "display_name": "Python 3",
   "language": "python",
   "name": "python3"
  },
  "language_info": {
   "codemirror_mode": {
    "name": "ipython",
    "version": 2
   },
   "file_extension": ".py",
   "mimetype": "text/x-python",
   "name": "python",
   "nbconvert_exporter": "python",
   "pygments_lexer": "ipython2",
   "version": "2.7.6"
  }
 },
 "nbformat": 4,
 "nbformat_minor": 5
}
