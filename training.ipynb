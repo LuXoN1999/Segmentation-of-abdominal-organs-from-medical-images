{
 "cells": [
  {
   "metadata": {
    "ExecuteTime": {
     "end_time": "2025-03-04T11:19:17.533796Z",
     "start_time": "2025-03-04T11:19:14.766218Z"
    }
   },
   "cell_type": "code",
   "source": [
    "import time\n",
    "import copy\n",
    "\n",
    "import torch\n",
    "from torch.nn import Module, functional\n",
    "from torch.optim import Optimizer, Adam\n",
    "from torch.utils.tensorboard import SummaryWriter\n",
    "from torch.optim.lr_scheduler import LRScheduler, StepLR\n",
    "from torch import Tensor\n",
    "\n",
    "from data_loading.dataset import generate_dataloaders\n",
    "from metrics.iou import calculate_iou, CHAOSIoUTracker\n",
    "from unet import UNet"
   ],
   "id": "4611d6b3ec84f4e5",
   "outputs": [],
   "execution_count": 1
  },
  {
   "metadata": {},
   "cell_type": "markdown",
   "source": "## Hyperparameters",
   "id": "2e13d466085162f6"
  },
  {
   "metadata": {
    "ExecuteTime": {
     "end_time": "2025-03-04T11:19:17.541991Z",
     "start_time": "2025-03-04T11:19:17.538070Z"
    }
   },
   "cell_type": "code",
   "source": [
    "N_CLASSES = 4\n",
    "BATCH_SIZE = 32\n",
    "N_EPOCHS = 50\n",
    "LR = .001\n",
    "WEIGHT_DECAY = .0001\n",
    "STEP_SIZE = 30"
   ],
   "id": "2347a2c6a1afacde",
   "outputs": [],
   "execution_count": 2
  },
  {
   "metadata": {},
   "cell_type": "markdown",
   "source": "## Generating Dataloaders for feeding the NN",
   "id": "7fd81f0f33a8bca6"
  },
  {
   "metadata": {
    "ExecuteTime": {
     "end_time": "2025-03-04T11:19:18.037995Z",
     "start_time": "2025-03-04T11:19:17.689235Z"
    }
   },
   "cell_type": "code",
   "source": "dataloaders = generate_dataloaders(batch_size=BATCH_SIZE, validation_split=0.20)",
   "id": "adc2e15d2eaeceeb",
   "outputs": [],
   "execution_count": 3
  },
  {
   "metadata": {},
   "cell_type": "markdown",
   "source": "## Model Definition",
   "id": "1bb504381d2c47f7"
  },
  {
   "metadata": {
    "ExecuteTime": {
     "end_time": "2025-03-04T11:19:18.200083Z",
     "start_time": "2025-03-04T11:19:18.044893Z"
    }
   },
   "cell_type": "code",
   "source": "model = UNet(n_classes=N_CLASSES)",
   "id": "1d52015351514623",
   "outputs": [],
   "execution_count": 4
  },
  {
   "metadata": {},
   "cell_type": "markdown",
   "source": "## Log Functions",
   "id": "6dabcb63b93ad7aa"
  },
  {
   "metadata": {
    "ExecuteTime": {
     "end_time": "2025-03-04T11:19:18.229030Z",
     "start_time": "2025-03-04T11:19:18.221067Z"
    }
   },
   "cell_type": "code",
   "source": [
    "def print_metric_to_console(name: str, train_metric: dict, valid_metric: dict) -> None:\n",
    "    \"\"\"\n",
    "    Formats and prints training and validation metric values to console.\n",
    "    Expected metric dict:\n",
    "        {\n",
    "        \"metric1\": metric_value1,\n",
    "        \"metric2\": metric_value2,\n",
    "        \"metric3\": metric_value3,\n",
    "        ... }\n",
    "    \"\"\"\n",
    "    print(f\"{name.upper()}:\")\n",
    "    metric_dict = {\"train\": train_metric, \"valid\": valid_metric}\n",
    "    for phase, metric in metric_dict.items():\n",
    "        output = \" \".join(f\"{cls}: {score:.5f}\" for cls, score in metric.items())\n",
    "        print(f\"\\t({phase}) {output}\")\n",
    "\n",
    "\n",
    "def print_metric_to_tb(writer: SummaryWriter, train_metric: dict, valid_metric: dict, epoch: int) -> None:\n",
    "    \"\"\"\n",
    "    Prints training and validation metric values to Tensorboard.\n",
    "    Expected metric dict:\n",
    "        {\n",
    "        \"metric1\": metric_value1,\n",
    "        \"metric2\": metric_value2,\n",
    "        \"metric3\": metric_value3,\n",
    "        ... }\n",
    "    \"\"\"\n",
    "    for cls in train_metric.keys():\n",
    "        scalar_dict = {\n",
    "            \"train\": train_metric[cls],\n",
    "            \"valid\": valid_metric[cls]\n",
    "        }\n",
    "        writer.add_scalars(main_tag=cls, tag_scalar_dict=scalar_dict, global_step=epoch)\n",
    "\n",
    "\n",
    "WRITER_LOSS = SummaryWriter(\"logs/loss\")\n",
    "WRITER_ACCURACY = SummaryWriter(\"logs/accuracy\")"
   ],
   "id": "9e0ade43f9ee904d",
   "outputs": [],
   "execution_count": 6
  },
  {
   "metadata": {},
   "cell_type": "markdown",
   "source": "## Training Loop",
   "id": "ef9729826591240"
  },
  {
   "metadata": {
    "ExecuteTime": {
     "end_time": "2025-03-04T11:19:18.248509Z",
     "start_time": "2025-03-04T11:19:18.236061Z"
    }
   },
   "cell_type": "code",
   "source": [
    "def generate_run_name(\n",
    "        model_name: str,\n",
    "        epochs: int,\n",
    "        batch_size: int,\n",
    "        lr: float,\n",
    "        step_size: int,\n",
    "        weight_decay: float\n",
    ") -> str:\n",
    "    timestamp = time.strftime(\"%Y-%m-%d_%H-%M-%S\")\n",
    "    return f\"{model_name}_EP{epochs}_BS{batch_size}_LR{lr}_Step{step_size}_WD{weight_decay}_{timestamp}\"\n",
    "\n",
    "\n",
    "def train_model(\n",
    "        model: Module,\n",
    "        dataloaders: dict,\n",
    "        n_epochs: int,\n",
    "        optimizer: Optimizer,\n",
    "        scheduler: LRScheduler,\n",
    "        device: torch.device = torch.device(\"cpu\")\n",
    ") -> None:\n",
    "    model.to(device)\n",
    "    best_model_wts = copy.deepcopy(model.state_dict())\n",
    "    best_loss = 1e10\n",
    "\n",
    "    for epoch in range(n_epochs):\n",
    "        print(f\"\\nEpoch {epoch + 1}/{n_epochs}\\n{'=' * 30}\")\n",
    "        print(f\"LR: {optimizer.param_groups[0]['lr']}\")\n",
    "\n",
    "        start_time = time.time()\n",
    "\n",
    "        for phase in [\"train\", \"valid\"]:\n",
    "            if phase == \"train\":\n",
    "                model.train()\n",
    "            else:\n",
    "                model.eval()\n",
    "\n",
    "            losses = {\"bce\": 0.0, \"dice\": 0.0, \"loss\": 0.0}\n",
    "            total_loss = 0.0\n",
    "            epoch_samples = 0\n",
    "            accuracy_tracker = CHAOSIoUTracker()\n",
    "\n",
    "            with torch.set_grad_enabled(phase == \"train\"):\n",
    "                for images, masks in dataloaders[phase]:\n",
    "                    images, masks = images.to(device), masks.to(device)\n",
    "\n",
    "                    optimizer.zero_grad()\n",
    "                    prediction = model(images)\n",
    "\n",
    "                    loss = calculate_loss(prediction=prediction, ground_truth=masks, losses=losses)\n",
    "\n",
    "                    iou_score = calculate_iou(prediction=prediction, ground_truth=masks)\n",
    "                    accuracy_tracker.update(batch_iou=iou_score, batch_size=masks.size(0))\n",
    "\n",
    "                    if phase == \"train\":\n",
    "                        loss.backward()\n",
    "                        optimizer.step()\n",
    "\n",
    "                    total_loss += loss.item()\n",
    "                    epoch_samples += masks.size(0)\n",
    "\n",
    "            avg_loss = {name: value / epoch_samples for name, value in losses.items()}\n",
    "            avg_accuracy = accuracy_tracker.get_results()\n",
    "\n",
    "            if phase == \"train\":\n",
    "                train_loss = avg_loss  # save the training loss\n",
    "                train_accuracy = avg_accuracy  # save the training accuracy\n",
    "            else:\n",
    "                # print loss\n",
    "                print_metric_to_console(name=\"LOSS\", train_metric=train_loss, valid_metric=avg_loss)\n",
    "                print_metric_to_tb(writer=WRITER_LOSS, train_metric=train_loss, valid_metric=avg_loss, epoch=epoch)\n",
    "\n",
    "                # print accuracy\n",
    "                print_metric_to_console(\n",
    "                    name=\"ACCURACY(IoU)\",\n",
    "                    train_metric=train_accuracy,\n",
    "                    valid_metric=avg_accuracy\n",
    "                )\n",
    "                print_metric_to_tb(\n",
    "                    writer=WRITER_ACCURACY,\n",
    "                    train_metric=train_accuracy,\n",
    "                    valid_metric=avg_accuracy,\n",
    "                    epoch=epoch\n",
    "                )\n",
    "\n",
    "                epoch_loss = total_loss / len(dataloaders[phase])\n",
    "                if epoch_loss < best_loss:\n",
    "                    print(\"Saving best model...\")\n",
    "                    best_loss = epoch_loss\n",
    "                    best_model_wts = copy.deepcopy(model.state_dict())\n",
    "\n",
    "        finish_time = round(time.time() - start_time)\n",
    "        print(f\"TIME: {finish_time // 60}min {finish_time % 60}s\")\n",
    "        scheduler.step()\n",
    "\n",
    "    print(f\"Best validation loss: {best_loss:.5f}\")\n",
    "    model.load_state_dict(best_model_wts)\n",
    "\n",
    "    run_name = generate_run_name(model_name=\"UNet\",\n",
    "                                 weight_decay=WEIGHT_DECAY,\n",
    "                                 lr=LR,\n",
    "                                 step_size=STEP_SIZE,\n",
    "                                 batch_size=BATCH_SIZE,\n",
    "                                 epochs=N_EPOCHS\n",
    "                                 )\n",
    "\n",
    "    torch.save(model.state_dict(), f\"./models/{run_name}.pth\")\n"
   ],
   "id": "55e32fd2653dcbb0",
   "outputs": [],
   "execution_count": 7
  },
  {
   "metadata": {
    "ExecuteTime": {
     "end_time": "2025-03-04T11:19:18.279857Z",
     "start_time": "2025-03-04T11:19:18.257430Z"
    }
   },
   "cell_type": "code",
   "source": [
    "%reload_ext tensorboard\n",
    "%tensorboard --logdir logs/losses"
   ],
   "id": "c72dfdf6b99848a1",
   "outputs": [
    {
     "data": {
      "text/plain": [
       "Reusing TensorBoard on port 6006 (pid 14628), started 34 days, 0:36:34 ago. (Use '!kill 14628' to kill it.)"
      ]
     },
     "metadata": {},
     "output_type": "display_data"
    },
    {
     "data": {
      "text/plain": [
       "<IPython.core.display.HTML object>"
      ],
      "text/html": [
       "\n",
       "      <iframe id=\"tensorboard-frame-7619b48054f45938\" width=\"100%\" height=\"800\" frameborder=\"0\">\n",
       "      </iframe>\n",
       "      <script>\n",
       "        (function() {\n",
       "          const frame = document.getElementById(\"tensorboard-frame-7619b48054f45938\");\n",
       "          const url = new URL(\"/\", window.location);\n",
       "          const port = 6006;\n",
       "          if (port) {\n",
       "            url.port = port;\n",
       "          }\n",
       "          frame.src = url;\n",
       "        })();\n",
       "      </script>\n",
       "    "
      ]
     },
     "metadata": {},
     "output_type": "display_data"
    }
   ],
   "execution_count": 8
  },
  {
   "metadata": {
    "ExecuteTime": {
     "end_time": "2025-03-04T11:19:18.314356Z",
     "start_time": "2025-03-04T11:19:18.287873Z"
    }
   },
   "cell_type": "code",
   "source": "%tensorboard --logdir logs/accuracies",
   "id": "b77f89fec446c660",
   "outputs": [
    {
     "data": {
      "text/plain": [
       "Reusing TensorBoard on port 6006 (pid 12688), started 12:38:15 ago. (Use '!kill 12688' to kill it.)"
      ]
     },
     "metadata": {},
     "output_type": "display_data"
    },
    {
     "data": {
      "text/plain": [
       "<IPython.core.display.HTML object>"
      ],
      "text/html": [
       "\n",
       "      <iframe id=\"tensorboard-frame-640d4bb441298198\" width=\"100%\" height=\"800\" frameborder=\"0\">\n",
       "      </iframe>\n",
       "      <script>\n",
       "        (function() {\n",
       "          const frame = document.getElementById(\"tensorboard-frame-640d4bb441298198\");\n",
       "          const url = new URL(\"/\", window.location);\n",
       "          const port = 6006;\n",
       "          if (port) {\n",
       "            url.port = port;\n",
       "          }\n",
       "          frame.src = url;\n",
       "        })();\n",
       "      </script>\n",
       "    "
      ]
     },
     "metadata": {},
     "output_type": "display_data"
    }
   ],
   "execution_count": 9
  },
  {
   "metadata": {},
   "cell_type": "markdown",
   "source": "## Define Optimizer, LR Scheduler and Start Training",
   "id": "a5f023d7aff74d0b"
  },
  {
   "metadata": {
    "ExecuteTime": {
     "end_time": "2025-03-04T11:58:14.214565Z",
     "start_time": "2025-03-04T11:19:18.324743Z"
    }
   },
   "cell_type": "code",
   "source": [
    "device = torch.device(\"cuda\" if torch.cuda.is_available() else \"cpu\")\n",
    "optimizer = Adam(filter(lambda p: p.requires_grad, model.parameters()), lr=LR, weight_decay=WEIGHT_DECAY)\n",
    "lr_scheduler = StepLR(optimizer=optimizer, step_size=STEP_SIZE, gamma=0.1)\n",
    "\n",
    "train_model(\n",
    "    model=model,\n",
    "    dataloaders=dataloaders,\n",
    "    n_epochs=N_EPOCHS,\n",
    "    optimizer=optimizer,\n",
    "    scheduler=lr_scheduler,\n",
    "    device=device\n",
    ")"
   ],
   "id": "86f4144831c7a757",
   "outputs": [
    {
     "name": "stdout",
     "output_type": "stream",
     "text": [
      "\n",
      "Epoch 1/50\n",
      "==============================\n",
      "LR: 0.001\n",
      "LOSS:\n",
      "\t(train) bce: 0.43447 dice: 0.95125 loss: 0.69286\n",
      "\t(valid) bce: 0.46896 dice: 0.94256 loss: 0.70576\n",
      "ACCURACY(IOU):\n",
      "\t(train) liver: 0.15494 r_kidney: 0.44651 l_kidney: 0.17873 spleen: 0.40679\n",
      "\t(valid) liver: 0.12595 r_kidney: 0.55906 l_kidney: 0.50787 spleen: 0.49606\n",
      "Saving best model...\n",
      "TIME: 4min 29s\n",
      "\n",
      "Epoch 2/50\n",
      "==============================\n",
      "LR: 0.001\n",
      "LOSS:\n",
      "\t(train) bce: 0.22822 dice: 0.90627 loss: 0.56725\n",
      "\t(valid) bce: 0.27485 dice: 0.94278 loss: 0.60882\n",
      "ACCURACY(IOU):\n",
      "\t(train) liver: 0.34500 r_kidney: 0.60236 l_kidney: 0.56004 spleen: 0.61122\n",
      "\t(valid) liver: 0.13511 r_kidney: 0.55906 l_kidney: 0.54724 spleen: 0.61811\n",
      "TIME: 4min 31s\n",
      "\n",
      "Epoch 3/50\n",
      "==============================\n",
      "LR: 0.001\n",
      "LOSS:\n",
      "\t(train) bce: 0.13644 dice: 0.85791 loss: 0.49717\n",
      "\t(valid) bce: 0.12346 dice: 0.83316 loss: 0.47831\n",
      "ACCURACY(IOU):\n",
      "\t(train) liver: 0.41428 r_kidney: 0.60236 l_kidney: 0.55216 spleen: 0.44430\n",
      "\t(valid) liver: 0.51328 r_kidney: 0.55906 l_kidney: 0.18539 spleen: 0.20596\n",
      "TIME: 4min 21s\n",
      "\n",
      "Epoch 4/50\n",
      "==============================\n",
      "LR: 0.001\n",
      "LOSS:\n",
      "\t(train) bce: 0.08852 dice: 0.79996 loss: 0.44424\n",
      "\t(valid) bce: 0.09775 dice: 0.78673 loss: 0.44224\n",
      "ACCURACY(IOU):\n",
      "\t(train) liver: 0.44889 r_kidney: 0.60236 l_kidney: 0.30746 spleen: 0.28460\n",
      "\t(valid) liver: 0.55807 r_kidney: 0.55906 l_kidney: 0.15240 spleen: 0.17188\n",
      "TIME: 4min 18s\n",
      "\n",
      "Epoch 5/50\n",
      "==============================\n",
      "LR: 0.001\n",
      "LOSS:\n",
      "\t(train) bce: 0.06678 dice: 0.73620 loss: 0.40149\n",
      "\t(valid) bce: 0.05523 dice: 0.74163 loss: 0.39843\n",
      "ACCURACY(IOU):\n",
      "\t(train) liver: 0.49249 r_kidney: 0.43038 l_kidney: 0.33735 spleen: 0.30526\n",
      "\t(valid) liver: 0.57010 r_kidney: 0.21947 l_kidney: 0.48364 spleen: 0.53077\n",
      "TIME: 4min 17s\n",
      "\n",
      "Epoch 6/50\n",
      "==============================\n",
      "LR: 0.001\n",
      "LOSS:\n",
      "\t(train) bce: 0.05354 dice: 0.66519 loss: 0.35937\n",
      "\t(valid) bce: 0.09147 dice: 0.64736 loss: 0.36942\n",
      "ACCURACY(IOU):\n",
      "\t(train) liver: 0.47691 r_kidney: 0.41182 l_kidney: 0.36218 spleen: 0.29024\n",
      "\t(valid) liver: 0.60081 r_kidney: 0.42490 l_kidney: 0.20676 spleen: 0.15635\n",
      "TIME: 4min 48s\n",
      "\n",
      "Epoch 7/50\n",
      "==============================\n",
      "LR: 0.001\n",
      "LOSS:\n",
      "\t(train) bce: 0.04326 dice: 0.58694 loss: 0.31510\n",
      "\t(valid) bce: 0.05766 dice: 0.72864 loss: 0.39315\n",
      "ACCURACY(IOU):\n",
      "\t(train) liver: 0.52640 r_kidney: 0.45977 l_kidney: 0.43737 spleen: 0.32974\n",
      "\t(valid) liver: 0.45471 r_kidney: 0.49443 l_kidney: 0.53837 spleen: 0.61374\n",
      "TIME: 4min 36s\n",
      "\n",
      "Epoch 8/50\n",
      "==============================\n",
      "LR: 0.001\n",
      "LOSS:\n",
      "\t(train) bce: 0.03658 dice: 0.51456 loss: 0.27557\n",
      "\t(valid) bce: 0.03598 dice: 0.53094 loss: 0.28346\n",
      "ACCURACY(IOU):\n",
      "\t(train) liver: 0.53454 r_kidney: 0.54352 l_kidney: 0.44572 spleen: 0.36695\n",
      "\t(valid) liver: 0.53558 r_kidney: 0.39758 l_kidney: 0.42199 spleen: 0.58820\n",
      "TIME: 4min 22s\n",
      "\n",
      "Epoch 9/50\n",
      "==============================\n",
      "LR: 0.001\n"
     ]
    },
    {
     "name": "stderr",
     "output_type": "stream",
     "text": [
      "\n",
      "KeyboardInterrupt\n",
      "\n"
     ]
    }
   ],
   "execution_count": 10
  }
 ],
 "metadata": {
  "kernelspec": {
   "display_name": "Python 3",
   "language": "python",
   "name": "python3"
  },
  "language_info": {
   "codemirror_mode": {
    "name": "ipython",
    "version": 2
   },
   "file_extension": ".py",
   "mimetype": "text/x-python",
   "name": "python",
   "nbconvert_exporter": "python",
   "pygments_lexer": "ipython2",
   "version": "2.7.6"
  }
 },
 "nbformat": 4,
 "nbformat_minor": 5
}
